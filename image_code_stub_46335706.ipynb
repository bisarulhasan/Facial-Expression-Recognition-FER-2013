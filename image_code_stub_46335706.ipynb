{
 "cells": [
  {
   "cell_type": "markdown",
   "metadata": {
    "id": "tZWdaaO0MQ03"
   },
   "source": [
    "\n",
    "```\n",
    "Title: Facial Expression Recognition\n",
    "Author Name: Bisar Ul Hasan\n",
    "Author Kaggle UserName: iambisar\n",
    "Student ID: 46335706\n",
    "```\n",
    "\n",
    "\n"
   ]
  },
  {
   "cell_type": "markdown",
   "metadata": {
    "id": "Tp6zrLa-WJ_E"
   },
   "source": [
    "# Introduction\n",
    "This notebook is for the major project submission for COMP8220, on the Facial Image dataset and the task of this project is to use conventional ML models and deep learning models to classify each face based on the emotion shown in the facial expression into one of seven categories (0=Angry, 1=Disgust, 2=Fear, 3=Happy, 4=Sad, 5=Surprise, 6=Neutral). Main objective of the project is to experiment and implement the approaches we've learnt to build a high-performing system and compare the results of each approach.\n",
    "***\n",
    "# About Datasets\n",
    "We are using a Subset of [FER 2013](https://www.kaggle.com/datasets/msambare/fer2013) Dataset which in actual conists of 32298 Samples. **The subset consists of 9328 Samples**. We will be further splitting this subset into 80% training and 20% testing splits. So, we will be training all the models on just 7426 samples. Public and private datasets are more likely acting as validation sets in this scenario and we are fetching the test set from training set.\n",
    "\n",
    "- Training Set Sample Size: 7462 \n",
    "- Testing Set Sample Size: 1866\n",
    "- Public Test Set: 1136\n",
    "- Private Test Set: 1153\n",
    "***\n",
    "The Notebook contains the following sections:\n",
    "\n",
    "1. Basic Setup\n",
    "  1. Importing Necessary Libraries\n",
    "  2. Loading & Preparing Datasets\n",
    "  3. Performing data analysis\n",
    "2. Conventional ML Models\n",
    "  1. Data Preprocessing \n",
    "  2. Data Splitting & Feature Scaling\n",
    "  3. Conv Model Training: Main Dataset\n",
    "      1. Model 1: Linear SVC\n",
    "      2. Model 2: Random Forest Classifier\n",
    "      3. Model 3: Linear Gradient Bossting Machine(LGBM)\n",
    "      4. Predictions using Selected model(LGBM)\n",
    "        1. Prediction on Facial Expression Recognition: PUBLIC TEST\n",
    "        2. Prediction on Facial Expression Recognition: PRIVATE TEST\n",
    "  4. Conv Model Training: Out-of-Domain Dataset\n",
    "      1. OOD Data Preprocessing\n",
    "      2. Splitting Combined Dataset\n",
    "      3. Fitting Selected Model(LGBM) on Combined Dataset\n",
    "      4. Predictions on OOD using Selected model(LGBM)\n",
    "        1. Prediction on Facial Expression Recognition (OOD): PUBLIC TEST\n",
    "        2. Prediction on Facial Expression Recognition (OOD): Priavte TEST\n",
    "  5. Notes on the Conventional ML Model\n",
    "\n",
    "3. Deep Learning Models\n",
    "  1. Data Preprocessing & Data Splitting\n",
    "  2. Model Training\n",
    "      1. Model 1: Basic Convolutional Neural Network\n",
    "      2. Random Search (Training CNN on Different Combination of Layers and Parameters)\n",
    "      3. Model 2: Selecting more complicated Conv2D Architecture (6 Layer)\n",
    "      4. Predictions using Selected Model(Model 2: 6 Layer)\n",
    "        1. Prediction on Facial Expression Recognition: PUBLIC Test\n",
    "        2. Prediction on Facial Expression Recognition: PRIVATE Test\n",
    "  3. Deep Learning Models (CNN): Out-of-Domain Dataset\n",
    "      1. OOD Data Preprocessing\n",
    "      2. Fitting Selected Model(LGBM) on MNIST\n",
    "        1. Prediction on Facial Expression Recognition (OOD): PUBLIC TEST\n",
    "        2. Prediction on Facial Expression Recognition (OOD): Priavte TEST\n",
    "  4. Notes on Deep Learning Model\n",
    "4. Discussion of the performance of the two models & Conclusion."
   ]
  },
  {
   "cell_type": "markdown",
   "metadata": {
    "id": "dikRLa_HYgfE"
   },
   "source": [
    "# 1 Basic Setup"
   ]
  },
  {
   "cell_type": "markdown",
   "metadata": {
    "id": "b6OsoQhQM3cU"
   },
   "source": [
    "## 1.1 Importing Necessary Libraries"
   ]
  },
  {
   "cell_type": "code",
   "execution_count": 50,
   "metadata": {
    "id": "OPook2sMMSMT"
   },
   "outputs": [],
   "source": [
    "#Connecting to google drive\n",
    "from google.colab import drive\n",
    "\n",
    "#Importing Data Processing & Model Evaluation Libraries\n",
    "from os.path import join\n",
    "\n",
    "import math\n",
    "import numpy as np\n",
    "import pandas as pd\n",
    "import matplotlib.pyplot as plt\n",
    "import seaborn as sns\n",
    "\n",
    "from sklearn.model_selection import train_test_split\n",
    "from sklearn.metrics import accuracy_score\n",
    "from sklearn.metrics import confusion_matrix\n",
    "from sklearn.metrics import classification_report\n",
    "from sklearn.preprocessing import StandardScaler\n",
    "\n",
    "\n",
    "#Importing Necessary libraries for Conventional ML Models\n",
    "from sklearn.svm import LinearSVC\n",
    "from sklearn.ensemble import RandomForestClassifier\n",
    "import lightgbm as lgb\n",
    "\n",
    "\n",
    "#Importing Necessary libraries for Deep Learning Models\n",
    "import keras\n",
    "import tensorflow as tf\n",
    "from tensorflow.keras import optimizers\n",
    "from tensorflow.keras.models import Sequential\n",
    "from tensorflow.keras.layers import Flatten, Dense, Conv2D, MaxPooling2D\n",
    "from tensorflow.keras.layers import Dropout, BatchNormalization, LeakyReLU, Activation\n",
    "from tensorflow.keras.callbacks import Callback, EarlyStopping, ModelCheckpoint, ReduceLROnPlateau\n",
    "from tensorflow.keras.preprocessing.image import ImageDataGenerator\n",
    "\n",
    "from keras.utils import np_utils"
   ]
  },
  {
   "cell_type": "markdown",
   "metadata": {
    "id": "aSO4MxiGRBK1"
   },
   "source": [
    "## 1.2 Loading and Preparing Datasets"
   ]
  },
  {
   "cell_type": "code",
   "execution_count": 29,
   "metadata": {
    "colab": {
     "base_uri": "https://localhost:8080/"
    },
    "id": "QDkapsHFRI2o",
    "outputId": "11f712b0-6e12-4caa-a2eb-3f66367f5ac8"
   },
   "outputs": [
    {
     "name": "stdout",
     "output_type": "stream",
     "text": [
      "Shape of features of images from training set:  (9328, 48, 48)\n",
      "Shape of labels from training set:  (9328,)\n",
      "features from public test set:  (1136, 48, 48)\n",
      "features from private test set:  (1153, 48, 48)\n"
     ]
    }
   ],
   "source": [
    "#Please Note: Variables named as Images refer to features and variables named as labels refer to target(emotions) variables.\n",
    "#Establishing connection with Google Drive for accessing required datasets\n",
    "drive.mount('/content/drive/')\n",
    "\n",
    "image_size = 48\n",
    "EMOTIONS = ['angry', 'disgusted', 'fearful','happy', 'sad', 'surprised', 'neutral', 'OTHER'] #Creating a list of labels to map numerical emotion label to categorical value\n",
    "\n",
    "dataset_directory = '/content/drive/MyDrive/Machine Learning/Major Project/Data'  #Setting up Current working directory of google drive for accessing\n",
    "output_directory = '/content/drive/MyDrive/Machine Learning/Major Project/Predictions'#storing files\n",
    "\n",
    "#Loading Dataset of human faces(Training features + Training Outcome variables)\n",
    "images_train = np.load(join(dataset_directory, 'Training_data_images.npy'))\n",
    "labels_train = np.load(join(dataset_directory, 'Training_data_labels.npy'))\n",
    "\n",
    "#Loading Dataset of human faces(Public & Private Testing features)\n",
    "images_test_public = np.load(join(dataset_directory, 'PublicTest_faces_only_data_images.npy'))\n",
    "images_test_private = np.load(join(dataset_directory, 'PrivateTest_data_images.npy'))\n",
    "\n",
    "\n",
    "#Reshapping Features\n",
    "images_train = images_train.reshape([-1, image_size, image_size])\n",
    "images_test_public = images_test_public.reshape([-1, image_size, image_size])\n",
    "images_test_private = images_test_private.reshape([-1, image_size, image_size])\n",
    "\n",
    "print(\"Shape of features of images from training set: \", images_train.shape)\n",
    "print(\"Shape of labels from training set: \",labels_train.shape)\n",
    "print(\"features from public test set: \", images_test_public.shape)\n",
    "print(\"features from private test set: \", images_test_private.shape)"
   ]
  },
  {
   "cell_type": "markdown",
   "metadata": {
    "id": "_ovCB9gpW0tt"
   },
   "source": [
    "## 1.3 Performing Data Analysis"
   ]
  },
  {
   "cell_type": "code",
   "execution_count": 30,
   "metadata": {
    "colab": {
     "base_uri": "https://localhost:8080/"
    },
    "id": "SSMQn-pcWwa2",
    "outputId": "4084213c-62da-48a8-94ea-5fef080412f4"
   },
   "outputs": [
    {
     "data": {
      "text/plain": [
       "array([0, 1, 2, 3, 4, 5, 6])"
      ]
     },
     "execution_count": 30,
     "metadata": {},
     "output_type": "execute_result"
    }
   ],
   "source": [
    "#Looking at all the classes in our dataset\n",
    "list_of_emotions = list(labels_train)\n",
    "np.unique(list_of_emotions)"
   ]
  },
  {
   "cell_type": "code",
   "execution_count": 31,
   "metadata": {
    "colab": {
     "base_uri": "https://localhost:8080/"
    },
    "id": "wJSixBRAXHOL",
    "outputId": "d4e4ef3b-6a81-4d60-fef0-0f44b9b5cd2f"
   },
   "outputs": [
    {
     "name": "stdout",
     "output_type": "stream",
     "text": [
      "[[0.25098039 0.24705882 0.2745098  ... 0.16078431 0.2        0.21960784]\n",
      " [0.22745098 0.19215686 0.20784314 ... 0.14509804 0.16470588 0.18823529]\n",
      " [0.12941176 0.14901961 0.16862745 ... 0.17254902 0.21568627 0.20784314]\n",
      " ...\n",
      " [0.14117647 0.19215686 0.23137255 ... 0.19607843 0.22352941 0.25882353]\n",
      " [0.12156863 0.12941176 0.18431373 ... 0.2627451  0.26666667 0.23137255]\n",
      " [0.14901961 0.09019608 0.09803922 ... 0.37254902 0.26666667 0.21568627]]\n",
      "0\n",
      "angry\n"
     ]
    }
   ],
   "source": [
    "sample = 0\n",
    "print(images_train[sample])\n",
    "print(labels_train[sample])\n",
    "print(EMOTIONS[labels_train[sample]])"
   ]
  },
  {
   "cell_type": "code",
   "execution_count": 32,
   "metadata": {
    "colab": {
     "base_uri": "https://localhost:8080/",
     "height": 589
    },
    "id": "UwwJHJj7XPK0",
    "outputId": "bc599867-23b5-4942-8f33-248b92b6f41a"
   },
   "outputs": [
    {
     "data": {
      "image/png": "[encoded data removed]",
      "text/plain": [
       "<Figure size 720x720 with 25 Axes>"
      ]
     },
     "metadata": {},
     "output_type": "display_data"
    }
   ],
   "source": [
    "plt.figure(figsize=(10,10))\n",
    "for i in range(25):\n",
    "    plt.subplot(5,5,i+1)\n",
    "    plt.xticks([])\n",
    "    plt.yticks([])\n",
    "    plt.grid(False)\n",
    "    plt.imshow(images_train[i], cmap='gray')\n",
    "    plt.xlabel( EMOTIONS[ labels_train[i] ] )\n",
    "plt.show()"
   ]
  },
  {
   "cell_type": "code",
   "execution_count": 33,
   "metadata": {
    "colab": {
     "base_uri": "https://localhost:8080/"
    },
    "id": "D3NzgcLXyG6Q",
    "outputId": "2a5a69dc-733d-4316-91cd-7a8585b52b9c"
   },
   "outputs": [
    {
     "data": {
      "text/plain": [
       "happy        2736\n",
       "neutral      1913\n",
       "angry        1266\n",
       "fearful      1107\n",
       "surprised    1052\n",
       "sad          1043\n",
       "disgusted     211\n",
       "dtype: int64"
      ]
     },
     "execution_count": 33,
     "metadata": {},
     "output_type": "execute_result"
    }
   ],
   "source": [
    "#Checking the distribution with respect to emotions\n",
    "emotions = pd.Series(labels_train)\n",
    "cleanup_numerical = {0:\"angry\", 1:\"disgusted\", 2:\"fearful\", 3:\"happy\", 4:\"sad\", 5:\"surprised\", 6:\"neutral\"} #mapping the numerical values against categories\n",
    "emotions = emotions.replace(cleanup_numerical)\n",
    "emotions.value_counts()"
   ]
  },
  {
   "cell_type": "code",
   "execution_count": 34,
   "metadata": {
    "colab": {
     "base_uri": "https://localhost:8080/",
     "height": 499
    },
    "id": "R8Nh_PcA5TL1",
    "outputId": "3e0f9e67-1ba4-4ae0-fe38-98f1282e5af1"
   },
   "outputs": [
    {
     "data": {
      "image/png": "[encoded data removed]",
      "text/plain": [
       "<Figure size 720x576 with 1 Axes>"
      ]
     },
     "metadata": {
      "needs_background": "light"
     },
     "output_type": "display_data"
    }
   ],
   "source": [
    "#Plotting the histogram for visualizing the distribution\n",
    "f, ax = plt.subplots(figsize=(10, 8))\n",
    "sns.histplot(emotions, kde=True)\n",
    "plt.title(\"Fig 1. Distribution of Emotions\")\n",
    "plt.ylabel(\"Frequency\")\n",
    "plt.show()"
   ]
  },
  {
   "cell_type": "markdown",
   "metadata": {
    "id": "mivSZs5_x4qL"
   },
   "source": [
    "` In Fig 1, We can clearly see that our dataset has class imbalance for emotions. Our models are not going to generalize well; especially for disgusted emotion. Compared to happy emotion it has almost 13 times lesser data. To overcome class imbalance problem we either need to drop this emotion or fetch more data for the emotions having less samples or we can also use data augmentation to generate data for less frequently occuring emotions. We can also merge this emotion with other emotions like sad or angry. Although our data is unbalanced, it is evenly distributed among the other sets`\n"
   ]
  },
  {
   "cell_type": "markdown",
   "metadata": {
    "id": "0dwIhD3WWuMk"
   },
   "source": [
    "# 2 Conventional ML Model\n",
    "\n",
    "Now we will be experimenting with different algorithms and tecniques to examine which Conventional ML Model is working best on our dataset. Let's preprocess the data and start training. We will be using basic accuracy score metric and then plotting confusion matrix for the best performing model."
   ]
  },
  {
   "cell_type": "markdown",
   "metadata": {
    "id": "xPzx9gaCE5pV"
   },
   "source": [
    "## 2.1 Data Preprocessing"
   ]
  },
  {
   "cell_type": "code",
   "execution_count": 35,
   "metadata": {
    "colab": {
     "base_uri": "https://localhost:8080/"
    },
    "id": "usexdDRENKj1",
    "outputId": "255e499c-965d-4823-ec7f-f946ed9a8b4d"
   },
   "outputs": [
    {
     "name": "stdout",
     "output_type": "stream",
     "text": [
      "Dimensions of the training features:  3\n",
      "Dimensions of the training features:  3\n",
      "(Height, Width, Depth):  (9328, 48, 48)\n"
     ]
    }
   ],
   "source": [
    "print(\"Dimensions of the training features: \", images_train.ndim)\n",
    "print(\"Dimensions of the training features: \", images_test_public.ndim)\n",
    "print(\"(Height, Width, Depth): \", images_train.shape)"
   ]
  },
  {
   "cell_type": "markdown",
   "metadata": {
    "id": "_t-voHiCnuIl"
   },
   "source": [
    "Since training dataset is 3 dimensional, converting it to 2 dimensional array in which first dimension is maintained and the other two dimensions are flattened (so 48x48 becomes 2304). It Returns a copy of the array collapsed into one dimension.\n",
    "\n",
    "Code for flattening can be found [here](https://stackoverflow.com/questions/34972142/sklearn-logistic-regression-valueerror-found-array-with-dim-3-estimator-expec)"
   ]
  },
  {
   "cell_type": "code",
   "execution_count": 36,
   "metadata": {
    "id": "Aj9tLTYZkFol"
   },
   "outputs": [],
   "source": [
    "#Flattening features of training set\n",
    "nsamples, nx, ny = images_train.shape\n",
    "images_train_2d = images_train.reshape((nsamples,nx*ny))"
   ]
  },
  {
   "cell_type": "code",
   "execution_count": 37,
   "metadata": {
    "id": "s6zULqh1toiA"
   },
   "outputs": [],
   "source": [
    "#Flattening features of public test set\n",
    "nsamples, nx, ny = images_test_public.shape\n",
    "images_test_public_2d = images_test_public.reshape((nsamples,nx*ny))"
   ]
  },
  {
   "cell_type": "code",
   "execution_count": 38,
   "metadata": {
    "id": "X0j2fgLHangW"
   },
   "outputs": [],
   "source": [
    "#Flattening features of private test set\n",
    "nsamples, nx, ny = images_test_private.shape                           \n",
    "images_test_private_2d = images_test_private.reshape((nsamples,nx*ny))"
   ]
  },
  {
   "cell_type": "code",
   "execution_count": 39,
   "metadata": {
    "colab": {
     "base_uri": "https://localhost:8080/"
    },
    "id": "RgycqQfpkOSj",
    "outputId": "a9f44640-aef9-4fac-d86a-c5282a62d9fa"
   },
   "outputs": [
    {
     "name": "stdout",
     "output_type": "stream",
     "text": [
      "After Flattening the shape of array\n",
      "\n",
      "Dimensions of the training set features:  2\n",
      "Dimensions of the testing set features(PUBLIC):  2\n",
      "Dimensions of the testing set features(PUBLIC):  2\n",
      "Height, Width, Depth =  (9328, 2304)\n"
     ]
    }
   ],
   "source": [
    "print(\"After Flattening the shape of array\\n\")\n",
    "print(\"Dimensions of the training set features: \", images_train_2d.ndim)\n",
    "print(\"Dimensions of the testing set features(PUBLIC): \", images_test_public_2d.ndim)\n",
    "print(\"Dimensions of the testing set features(PUBLIC): \", images_test_private_2d.ndim)\n",
    "print(\"Height, Width, Depth = \", images_train_2d.shape)"
   ]
  },
  {
   "cell_type": "markdown",
   "metadata": {
    "id": "RhnPYCMjtY63"
   },
   "source": [
    "## 2.2 Data Splitting & Feature Scaling\n",
    "Our Dataset is ready for Modeling, Let's train some models and anlayse how each of them perform. In the next stag, we will be Splitting the data into training and testing sets with 80% traning set and 20% test set(for tunning models). we will be keeping RANDOM_STATE=42 throughout our experiments to keep the dataset distribution same for all the models and it will also allow us to reproduce the results. \n",
    "\n",
    "Please Note: It is a good practice to fine tune models on test set and then train on full dataset. However we will be using 80 percent data for training all the models as we are concerned with comparing different models on the same distribution of dataset within this notebook. We are not using 100% of the provided dataset. Using which can further improve the accuracy on Public and Private sets."
   ]
  },
  {
   "cell_type": "code",
   "execution_count": 40,
   "metadata": {
    "id": "zq7qYHXotJ18"
   },
   "outputs": [],
   "source": [
    "X_train, X_test, y_train, y_test = train_test_split(images_train_2d, labels_train, test_size=0.2, random_state=42) "
   ]
  },
  {
   "cell_type": "code",
   "execution_count": 41,
   "metadata": {
    "colab": {
     "base_uri": "https://localhost:8080/"
    },
    "id": "eTJEj33pjklN",
    "outputId": "dd3b4155-577f-444c-a765-2be64928ff4c"
   },
   "outputs": [
    {
     "name": "stdout",
     "output_type": "stream",
     "text": [
      "Actual Training Sample Size:  7462\n",
      "Actual Testing Sample Size:  1866\n"
     ]
    }
   ],
   "source": [
    "print(\"Actual Training Sample Size: \", X_train.shape[0])\n",
    "print(\"Actual Testing Sample Size: \", X_test.shape[0])"
   ]
  },
  {
   "cell_type": "markdown",
   "metadata": {
    "id": "JxG08OK5ivD8"
   },
   "source": [
    "Implemented the models with and without scaling features. Model's accuracy improved after scaling. Therefore, we are scaling the features."
   ]
  },
  {
   "cell_type": "code",
   "execution_count": 42,
   "metadata": {
    "id": "5qae4R-PAUuU"
   },
   "outputs": [],
   "source": [
    "#Normalising the features by fitting on the training set and then scaling other features using same fit. Results of standardscalar appeared to be the same using pipeline. \n",
    "sc = StandardScaler()\n",
    "X_train = sc.fit_transform(X_train)\n",
    "X_test = sc.transform(X_test)\n",
    "images_test_public_2d = sc.transform(images_test_public_2d)\n",
    "images_test_private_2d = sc.transform(images_test_private_2d)"
   ]
  },
  {
   "cell_type": "markdown",
   "metadata": {
    "id": "yvuia59UthJ5"
   },
   "source": [
    "## 2.3 Conv Model Training: Main Dataset"
   ]
  },
  {
   "cell_type": "markdown",
   "metadata": {
    "id": "rLFgLQzuOFRD"
   },
   "source": [
    "### 2.3.1 Model 1: Linear SVC"
   ]
  },
  {
   "cell_type": "code",
   "execution_count": 43,
   "metadata": {
    "colab": {
     "base_uri": "https://localhost:8080/"
    },
    "id": "yTTP7cZjOzLj",
    "outputId": "15c9cfe0-56e5-499f-8488-2608f3555793"
   },
   "outputs": [
    {
     "name": "stdout",
     "output_type": "stream",
     "text": [
      "[LibLinear]Model accuracy for SVC: 40.728831725616296\n"
     ]
    },
    {
     "name": "stderr",
     "output_type": "stream",
     "text": [
      "/Users/bisarhasan/anaconda3/lib/python3.8/site-packages/sklearn/svm/_base.py:976: ConvergenceWarning: Liblinear failed to converge, increase the number of iterations.\n",
      "  warnings.warn(\"Liblinear failed to converge, increase \"\n"
     ]
    }
   ],
   "source": [
    "#initialize \n",
    "LinearSVC_Classifier =  LinearSVC(max_iter = 10000,\n",
    "                                  dual= True,\n",
    "                                  verbose=1)\n",
    "\n",
    "# Training the model\n",
    "LinearSVC_Classifier.fit(X_train,y_train)\n",
    "\n",
    "# Predicting Emotions on test set\n",
    "y_test_predicted=LinearSVC_Classifier.predict(X_test)\n",
    "print(\"Model accuracy for SVC:\", accuracy_score(y_test,y_test_predicted)*100)"
   ]
  },
  {
   "cell_type": "markdown",
   "metadata": {
    "id": "HOdbtooFOfuy"
   },
   "source": [
    "### 2.3.2 Model 2: Random Forest Classifier"
   ]
  },
  {
   "cell_type": "code",
   "execution_count": 44,
   "metadata": {
    "colab": {
     "base_uri": "https://localhost:8080/"
    },
    "id": "Wf66j-lB3xR1",
    "outputId": "6b78b7c8-89e6-4dfc-cecc-8c16cdb81bff"
   },
   "outputs": [
    {
     "name": "stdout",
     "output_type": "stream",
     "text": [
      "Model accuracy for RFC: 55.2518756698821\n"
     ]
    }
   ],
   "source": [
    "#initialize \n",
    "rf_Classifier =  RandomForestClassifier(n_estimators=500,\n",
    "                                        random_state=42)\n",
    "\n",
    "# Training the model\n",
    "rf_Classifier.fit(X_train,y_train)\n",
    "\n",
    "# Predicting Emotions on test set\n",
    "y_test_predicted=rf_Classifier.predict(X_test)\n",
    "print(\"Model accuracy for RFC:\", accuracy_score(y_test,y_test_predicted)*100)"
   ]
  },
  {
   "cell_type": "markdown",
   "metadata": {
    "id": "r_n17RPNN8-Y"
   },
   "source": [
    "### 2.3.3 Model 3: Linear Gradient Bossting Machine(LGBM)"
   ]
  },
  {
   "cell_type": "code",
   "execution_count": 45,
   "metadata": {
    "colab": {
     "base_uri": "https://localhost:8080/"
    },
    "id": "fJZYL6wvL4yK",
    "outputId": "e7fe20da-4a6d-44d6-bfc7-09342aa540af"
   },
   "outputs": [
    {
     "name": "stdout",
     "output_type": "stream",
     "text": [
      "Model accuracy for LGBM: 58.467309753483384\n"
     ]
    }
   ],
   "source": [
    "# Initialize Light Gradient Boosting Machine\n",
    "lgbm_classifier = lgb.LGBMClassifier(learning_rate=0.1,\n",
    "                                     max_depth =-1,\n",
    "                                     min_child_samples=20,\n",
    "                                     n_estimators=300)\n",
    "\n",
    "# Training the model\n",
    "lgbm_classifier.fit(X_train, y_train)\n",
    "\n",
    "# Predicting Emotions on test set\n",
    "y_pred = lgbm_classifier.predict(X_test)\n",
    "\n",
    "# Calculate accuracy of the model\n",
    "print(\"Model accuracy for LGBM:\", accuracy_score(y_test,y_pred)*100)"
   ]
  },
  {
   "cell_type": "code",
   "execution_count": 46,
   "metadata": {
    "colab": {
     "base_uri": "https://localhost:8080/"
    },
    "id": "gZbLLbAMvdz9",
    "outputId": "2c1a37b3-866c-488f-fdb1-118aa4c2dcb1"
   },
   "outputs": [
    {
     "name": "stdout",
     "output_type": "stream",
     "text": [
      "Parameters currently in use:\n",
      "\n",
      "{'boosting_type': 'gbdt', 'class_weight': None, 'colsample_bytree': 1.0, 'importance_type': 'split', 'learning_rate': 0.1, 'max_depth': -1, 'min_child_samples': 20, 'min_child_weight': 0.001, 'min_split_gain': 0.0, 'n_estimators': 300, 'n_jobs': -1, 'num_leaves': 31, 'objective': None, 'random_state': None, 'reg_alpha': 0.0, 'reg_lambda': 0.0, 'silent': 'warn', 'subsample': 1.0, 'subsample_for_bin': 200000, 'subsample_freq': 0}\n"
     ]
    }
   ],
   "source": [
    "# Look at parameters used by our current forest\n",
    "print('Parameters currently in use:\\n')\n",
    "print(lgbm_classifier.get_params())"
   ]
  },
  {
   "cell_type": "code",
   "execution_count": 74,
   "metadata": {
    "colab": {
     "base_uri": "https://localhost:8080/",
     "height": 392
    },
    "id": "toivRiDQ13L7",
    "outputId": "de2e93ad-bcd8-47a6-a32f-8310341496df"
   },
   "outputs": [
    {
     "data": {
      "image/png": "[encoded data removed]",
      "text/plain": [
       "<Figure size 576x432 with 2 Axes>"
      ]
     },
     "metadata": {
      "needs_background": "light"
     },
     "output_type": "display_data"
    }
   ],
   "source": [
    "# Plot confusion matrix using seaborn instance\n",
    "fig, axes = plt.subplots(nrows=1, ncols=1, figsize=(8,6))\n",
    "matrix = confusion_matrix(y_test, y_pred)\n",
    "sns.heatmap(matrix, annot=True, fmt='.2f', \n",
    "                                cmap = 'viridis')\n",
    "plt.title(\"Fig 2. Heatmap of Confusion Matrix\")\n",
    "plt.show()"
   ]
  },
  {
   "cell_type": "markdown",
   "metadata": {
    "id": "fdYJxggauuhI"
   },
   "source": [
    "### 2.3.4 Predictions using Selected model(LGBM)\n",
    "\n",
    "We have selected Light Gradient Boosting Machine as it outperformed all the other models in terms of accuracy. \n",
    "\n",
    "Now, we will be performing some predictions over the provided public test and private test sets and uploading the results to Kaggle for observing how accurately the selected model is performing on the unseen datasets."
   ]
  },
  {
   "cell_type": "markdown",
   "metadata": {
    "id": "qBYHzRjVOqbF"
   },
   "source": [
    "#### 2.3.4.1 Prediction on Facial Expression Recognition: PUBLIC TEST\n"
   ]
  },
  {
   "cell_type": "code",
   "execution_count": 48,
   "metadata": {
    "id": "f2DkxPrq2kpD"
   },
   "outputs": [],
   "source": [
    "# Running the model on Public Test Set\n",
    "public_test_predicted=lgbm_classifier.predict(images_test_public_2d)"
   ]
  },
  {
   "cell_type": "code",
   "execution_count": 52,
   "metadata": {
    "id": "w8_CQDSCIvmn"
   },
   "outputs": [],
   "source": [
    "# Generating PUBLIC test CSV\n",
    "f = open(join(output_directory, '46335706_conv_predictions_lgbm_public.csv'), 'w')\n",
    "f.write('ID,Predictions\\n')\n",
    "for i in range(len(public_test_predicted)):\n",
    "  f.write(str(i) + f',{public_test_predicted[i]}\\n')\n",
    "f.close()"
   ]
  },
  {
   "cell_type": "markdown",
   "metadata": {
    "id": "PXiO0TfbfVqm"
   },
   "source": [
    "#### 2.3.4.2 Prediction on Facial Expression Recognition: PRIVATE TEST"
   ]
  },
  {
   "cell_type": "code",
   "execution_count": 53,
   "metadata": {
    "id": "S2ihPUWage-K"
   },
   "outputs": [],
   "source": [
    "# Running the model on Priavate Test Set\n",
    "private_test_predicted=lgbm_classifier.predict(images_test_private_2d)"
   ]
  },
  {
   "cell_type": "code",
   "execution_count": 54,
   "metadata": {
    "id": "8qALB_HFFG5b"
   },
   "outputs": [],
   "source": [
    "# Generating PRIVATE test CSV\n",
    "f = open(join(output_directory, '46335706_conv_predictions_lgbm_private.csv'), 'w')\n",
    "f.write('ID,Predictions\\n')\n",
    "for i in range(len(private_test_predicted)):\n",
    "  f.write(str(i) + f',{private_test_predicted[i]}\\n')\n",
    "f.close()"
   ]
  },
  {
   "cell_type": "markdown",
   "metadata": {
    "id": "sgKIGWe2714e"
   },
   "source": [
    "## 2.4 Conv Model Training: Out-of-Domain Dataset\n",
    "\n",
    "Now we are going to implement the same selected model(LGBM) on the combination of main(subset of FER) dataset and out-of-domain MNIST dataset from the MNIST dataset. The main objective is to see if our selected models generalizes well on the the digits dataset along with the faces dataset. MNIST is a handwritten digits dataset which is populary used by beginners who are learning techniques and pattern recognition methods on real-world data while spending minimal efforts on preprocessing and formatting as digits are centered and in acceptable quality."
   ]
  },
  {
   "cell_type": "markdown",
   "metadata": {
    "id": "5FVOmuRi0l9l"
   },
   "source": [
    "### 2.4.1 OOD Data Preprocessing"
   ]
  },
  {
   "cell_type": "code",
   "execution_count": 56,
   "metadata": {
    "colab": {
     "base_uri": "https://localhost:8080/",
     "height": 240
    },
    "id": "f5loVz0J1zfp",
    "outputId": "ea1b8920-9d85-4253-ed67-bc9b121dfe16"
   },
   "outputs": [
    {
     "name": "stdout",
     "output_type": "stream",
     "text": [
      "MNIST other emotions(7) count added:  1500\n"
     ]
    }
   ],
   "source": [
    "#MNIST Dataset (Training features + Training Target variables)\n",
    "images_train_mnist = np.load(join(dataset_directory, 'MNIST_dev_data_images.npy')) #MNIST features\n",
    "labels_train_mnist = np.load(join(dataset_directory, 'MNIST_dev_data_labels.npy')) #MNIST outcome\n",
    "\n",
    "PublicTest_faces_plus_data_images = np.load(join(dataset_directory, 'PublicTest_faces_plus_data_images.npy'))  \n",
    "PrivateTest_faces_plus_data_images = np.load(join(dataset_directory, 'PrivateTest_faces_plus_data_images.npy'))\n",
    "\n",
    "# images_train_mnist = images_train_mnist.reshape([-1, image_size, image_size]) #Reshaping MNIST\n",
    "# PublicTest_faces_plus_data_images = PublicTest_faces_plus_data_images.reshape([-1, image_size, image_size]) #facespublic\n",
    "# PrivateTest_faces_plus_data_images = PublicTest_faces_plus_data_images.reshape([-1, image_size, image_size]) #facesprivate\n",
    "\n",
    "print(\"MNIST other emotions(7) count added: \",  images_train_mnist.shape[0])\n",
    "\n",
    "#Reshape MNIST lable\n",
    "labels_train_mnist_Transposed = labels_train_mnist.T #Transposing the row as column\n",
    "labels_train_mnist_Flattened = labels_train_mnist_Transposed.flatten() #Flattening 2 dimensional array into 1 dimensional array"
   ]
  },
  {
   "cell_type": "markdown",
   "metadata": {
    "id": "9YaMw2t_Iu1r"
   },
   "source": [
    "> Since the classes in MNIST dataset are numbers and in our case we determine all the numbers as OTHERS(7th) category while predicting Facial Emotion Recoginition. Hence we are changing the labels of all the MNIST samples to 7."
   ]
  },
  {
   "cell_type": "code",
   "execution_count": 57,
   "metadata": {
    "id": "ywxNPpGn2Ekt"
   },
   "outputs": [
    {
     "name": "stdout",
     "output_type": "stream",
     "text": [
      "Labels Updated:  [7 7 7 ... 7 7 7]\n"
     ]
    }
   ],
   "source": [
    "labels_train_mnist_updated = labels_train_mnist_Flattened.copy()\n",
    "for i in range(len(labels_train_mnist_updated)):\n",
    "    labels_train_mnist_updated[i] = 7\n",
    "print(\"Labels Updated: \", labels_train_mnist_updated)"
   ]
  },
  {
   "cell_type": "code",
   "execution_count": 105,
   "metadata": {
    "id": "smu1PSR82IuB"
   },
   "outputs": [],
   "source": [
    "#Concatenate Faces train features and MNIST train features\n",
    "images_train_combined = np.concatenate((images_train, images_train_mnist), axis=0)\n",
    "#Concatenate Faces train labels and MNIST train labels\n",
    "labels_train_combined = np.concatenate((labels_train, labels_train_mnist_updated), axis=0)"
   ]
  },
  {
   "cell_type": "code",
   "execution_count": 59,
   "metadata": {
    "colab": {
     "base_uri": "https://localhost:8080/"
    },
    "id": "QmAuVtLv5Sd9",
    "outputId": "392e8dbf-1ebe-4a1f-a58c-68711bf46a45"
   },
   "outputs": [
    {
     "name": "stdout",
     "output_type": "stream",
     "text": [
      "features from private test set:  (10828, 48, 48)\n"
     ]
    }
   ],
   "source": [
    "print(\"features from private test set: \", images_train_combined.shape)"
   ]
  },
  {
   "cell_type": "code",
   "execution_count": 60,
   "metadata": {
    "colab": {
     "base_uri": "https://localhost:8080/"
    },
    "id": "4R4P-txtLHTy",
    "outputId": "9e07ff5d-940c-4b99-999c-978a0881ce59"
   },
   "outputs": [
    {
     "name": "stdout",
     "output_type": "stream",
     "text": [
      "Dimensions of the Combined training set features:  3\n",
      "Dimensions of the PublicTest Faces Plus data features:  3\n",
      "Dimensions of the PrivateTest Faces Plus data features:  3\n"
     ]
    }
   ],
   "source": [
    "print(\"Dimensions of the Combined training set features: \", images_train_combined.ndim)\n",
    "print(\"Dimensions of the PublicTest Faces Plus data features: \", PublicTest_faces_plus_data_images.ndim)\n",
    "print(\"Dimensions of the PrivateTest Faces Plus data features: \", PrivateTest_faces_plus_data_images.ndim)"
   ]
  },
  {
   "cell_type": "code",
   "execution_count": 61,
   "metadata": {
    "id": "O6oFQ8jF6c-B"
   },
   "outputs": [],
   "source": [
    "# Again we are converting 3 dimensional 2 dimesional array.\n",
    "nsamples, nx, ny = images_train_combined.shape\n",
    "images_train_combined_2d = images_train_combined.reshape((nsamples,nx*ny))"
   ]
  },
  {
   "cell_type": "code",
   "execution_count": 62,
   "metadata": {
    "id": "ZyKKCS186c-C"
   },
   "outputs": [],
   "source": [
    "# Flattening features of public test set\n",
    "nsamples, nx, ny = PublicTest_faces_plus_data_images.shape\n",
    "PublicTest_faces_plus_data_images_2d = PublicTest_faces_plus_data_images.reshape((nsamples,nx*ny))"
   ]
  },
  {
   "cell_type": "code",
   "execution_count": 63,
   "metadata": {
    "id": "qGQSiv9rzmJG"
   },
   "outputs": [],
   "source": [
    "# Flattening features of private test set\n",
    "nsamples, nx, ny = PrivateTest_faces_plus_data_images.shape\n",
    "PrivateTest_faces_plus_data_images_2d = PrivateTest_faces_plus_data_images.reshape((nsamples,nx*ny))"
   ]
  },
  {
   "cell_type": "code",
   "execution_count": 64,
   "metadata": {
    "colab": {
     "base_uri": "https://localhost:8080/"
    },
    "id": "FQ3qpKG36c-C",
    "outputId": "9271dad9-dddc-42db-c420-7d3365a59a94"
   },
   "outputs": [
    {
     "name": "stdout",
     "output_type": "stream",
     "text": [
      "After Flattening the shape of array\n",
      "\n",
      "Dimensions of the Combined training set features:  2\n",
      "Dimensions of the PublicTest Faces Plus data features:  2\n",
      "Dimensions of the PrivateTest Faces Plus data features:  2\n"
     ]
    }
   ],
   "source": [
    "print(\"After Flattening the shape of array\\n\")\n",
    "print(\"Dimensions of the Combined training set features: \", images_train_combined_2d.ndim)\n",
    "print(\"Dimensions of the PublicTest Faces Plus data features: \", PublicTest_faces_plus_data_images_2d.ndim)\n",
    "print(\"Dimensions of the PrivateTest Faces Plus data features: \", PrivateTest_faces_plus_data_images_2d.ndim)"
   ]
  },
  {
   "cell_type": "markdown",
   "metadata": {
    "id": "aoYXCpPH3mp2"
   },
   "source": [
    "### 2.4.2 Splitting Combined Dataset\n",
    "\n",
    "Distribution of split will change for this dataset as we have added new samples from MNIST dataset to the main dataset. However, same distribution will still be used for conv and deep learning model as we are still splitting using random_state = 42."
   ]
  },
  {
   "cell_type": "code",
   "execution_count": 65,
   "metadata": {
    "id": "kxtba_NI6c-C"
   },
   "outputs": [],
   "source": [
    "# Splitting the data into training and testing sets\n",
    "X_train, X_test, y_train, y_test = train_test_split(images_train_combined_2d, labels_train_combined, test_size=0.2, random_state=42)"
   ]
  },
  {
   "cell_type": "code",
   "execution_count": 66,
   "metadata": {
    "id": "evhO2LW76c-C"
   },
   "outputs": [],
   "source": [
    "#fittin\n",
    "sc = StandardScaler()\n",
    "X_train = sc.fit_transform(X_train)\n",
    "X_test = sc.transform(X_test)\n",
    "PublicTest_faces_plus_data_images_2d = sc.transform(PublicTest_faces_plus_data_images_2d)\n",
    "PrivateTest_faces_plus_data_images_2d = sc.transform(PrivateTest_faces_plus_data_images_2d)"
   ]
  },
  {
   "cell_type": "markdown",
   "metadata": {
    "id": "4fB88v991HBE"
   },
   "source": [
    "### 2.4.3 Fitting Selected Model(LGBM) on Combined Dataset"
   ]
  },
  {
   "cell_type": "code",
   "execution_count": 67,
   "metadata": {
    "colab": {
     "base_uri": "https://localhost:8080/",
     "height": 392
    },
    "id": "iJCwYr2Q7pB8",
    "outputId": "525abec2-4525-497b-b927-c9e7b7587559"
   },
   "outputs": [
    {
     "name": "stdout",
     "output_type": "stream",
     "text": [
      "Model accuracy for LGBM: 63.61957525392429\n"
     ]
    }
   ],
   "source": [
    "# Initialize Light Gradient Boosting Machine\n",
    "lgbm_classifier = lgb.LGBMClassifier(learning_rate=0.1,\n",
    "                                     n_estimators=300)\n",
    "\n",
    "# Fitting the model on the train data and training it\n",
    "lgbm_classifier.fit(X_train, y_train)\n",
    "\n",
    "# Predict on test data\n",
    "y_pred = lgbm_classifier.predict(X_test)\n",
    "\n",
    "# Calculate accuracy of the model\n",
    "print(\"Model accuracy for LGBM:\", accuracy_score(y_test,y_pred)*100)"
   ]
  },
  {
   "cell_type": "markdown",
   "metadata": {
    "id": "0beFo94U1wV0"
   },
   "source": [
    "### 2.4.4 Predictions on OOD using Selected model"
   ]
  },
  {
   "cell_type": "markdown",
   "metadata": {
    "id": "G81KGhAQHMUE"
   },
   "source": [
    "#### 2.4.4.1 Prediction on Facial Expression Recognition (OOD): PUBLIC TEST"
   ]
  },
  {
   "cell_type": "code",
   "execution_count": 68,
   "metadata": {
    "colab": {
     "base_uri": "https://localhost:8080/",
     "height": 187
    },
    "id": "wlTaKVkj8Bxv",
    "outputId": "219652a6-1a4c-43aa-c621-a8134628fb6d"
   },
   "outputs": [],
   "source": [
    "#Running the model on Public Test Set\n",
    "Public_faces_test_predicted=lgbm_classifier.predict(PublicTest_faces_plus_data_images_2d)"
   ]
  },
  {
   "cell_type": "code",
   "execution_count": 69,
   "metadata": {
    "colab": {
     "base_uri": "https://localhost:8080/",
     "height": 240
    },
    "id": "UeAxBNwj8Bxv",
    "outputId": "39a6aef8-52a0-411f-8dd6-5dc208ef346c"
   },
   "outputs": [],
   "source": [
    "#Generating PUBLIC test CSV\n",
    "f = open(join(output_directory, '46335706_conv_predictions_lgbm_MNIST_PUBLIC.csv'), 'w')  \n",
    "f.write('ID,Predictions\\n')\n",
    "for i in range(len(Public_faces_test_predicted)):\n",
    "  f.write(str(i) + f',{Public_faces_test_predicted[i]}\\n')\n",
    "f.close()"
   ]
  },
  {
   "cell_type": "markdown",
   "metadata": {
    "id": "wDT2J8crHibS"
   },
   "source": [
    "#### 2.4.4.2 Prediction on Facial Expression Recognition (OOD): PRIVATE TEST"
   ]
  },
  {
   "cell_type": "code",
   "execution_count": 70,
   "metadata": {
    "id": "tjJnEemYlNdF"
   },
   "outputs": [],
   "source": [
    "#Running the model on Private Test Set\n",
    "Private_faces_test_predicted=lgbm_classifier.predict(PrivateTest_faces_plus_data_images_2d)"
   ]
  },
  {
   "cell_type": "code",
   "execution_count": 73,
   "metadata": {
    "id": "HQmM8JMNqDG5"
   },
   "outputs": [],
   "source": [
    "#Generating PRIVATE test CSV\n",
    "f = open(join(output_directory, '46335706_conv_predictions_lgbm_MNIST_PRIVATE.csv'), 'w')\n",
    "f.write('ID,Predictions\\n')\n",
    "for i in range(len(Private_faces_test_predicted)):\n",
    "  f.write(str(i) + f',{Private_faces_test_predicted[i]}\\n')\n",
    "f.close()"
   ]
  },
  {
   "cell_type": "markdown",
   "metadata": {
    "id": "Lf45VKJXW_4m"
   },
   "source": [
    "## 2.5 Notes on the Conventional ML Model\n",
    "\n",
    "In this notebook, We have mainly experimented 3 models: Linear Support Vector Machine, Random Forest Classifier and Light Gradient Boosting Machine. The final model that produced the best-performing predictions on test sets is LGBM with accuracy 57.66% while RFC was on the second number with accuracy 55.25% and the lastly Linear SVC with accuracy 40.72 %. I have futher implemented KNN and other practices like RandomizedSearchCV for RFC and LGBM to evaluate best parameters. However, for the sake of keeping this notebook clean and easy to evaluate, I have removed all the extra code. \n",
    "***\n",
    "\n",
    "**Selected Model:**\n",
    "`We have selected LGBM as the best performing model, LGBM was giving best accuracy for the default parameters. It's accuracy slighlty inceased by 2% after increasing the n_estimators from 300 to 3000 but it took more than 10 times to execute the code. I also observed the results with and without feature normalization using standard scalar and normalizing the features gave a better accuracy than the actual feature array.`"
   ]
  },
  {
   "cell_type": "markdown",
   "metadata": {
    "id": "bSsCmspxVYuN"
   },
   "source": [
    "# 3 Deep Learning Model\n",
    "\n",
    "Now we will be experimenting with popular convolutional neural network alogorithm with multiple architechtures. Conventional ML Model is working best on our dataset. Let's preprocess the data and start training. We will be using evaluating model performance mainly on validation loss and accuracy. "
   ]
  },
  {
   "cell_type": "markdown",
   "metadata": {
    "id": "dvzmq4a5gux8"
   },
   "source": [
    "## 3.1 Data Preprocessing and splitting\n"
   ]
  },
  {
   "cell_type": "code",
   "execution_count": 119,
   "metadata": {
    "id": "TQwBNEE1gQqT"
   },
   "outputs": [],
   "source": [
    "# Data is already loaded in the first section of this notebook\n",
    "# we are using imagery data. Since min = 0 and max = 255 for pixel data, so we are going to divide it by 255 for Normalizing the features (scaling the values)\n",
    "#Training Data\n",
    "images_train_3d = np.array(images_train,'float32')\n",
    "images_train_3d -= np.mean(images_train_3d, axis=0)\n",
    "images_train_3d /= np.std(images_train_3d, axis=0)\n",
    "images_train_3d = images_train_3d.reshape(-1, 48, 48, 1)\n",
    "images_train_3d = images_train_3d.astype(\"float\") / 255.0 # Normalize image pixel values to be between 0 and 1\n",
    "\n",
    "#Public Test Data\n",
    "images_test_public_3d = np.array(images_test_public,'float32')\n",
    "images_test_public_3d -= np.mean(images_test_public_3d, axis=0)\n",
    "images_test_public_3d /= np.std(images_test_public_3d, axis=0)\n",
    "images_test_public_3d = images_test_public_3d.reshape(-1, 48, 48, 1)\n",
    "images_test_public_3d = images_test_public_3d.astype(\"float\") / 255.0\n",
    "\n",
    "#Private Test Data\n",
    "images_test_private_3d = np.array(images_test_private,'float32')\n",
    "images_test_private_3d -= np.mean(images_test_private_3d, axis=0)\n",
    "images_test_private_3d /= np.std(images_test_private_3d, axis=0)\n",
    "images_test_private_3d = images_test_private_3d.reshape(-1, 48, 48, 1)\n",
    "images_test_private_3d = images_test_private_3d.astype(\"float\") / 255.0\n",
    "\n",
    "\n",
    "# Training Labels\n",
    "num_labels = len(np.unique(labels_train))\n",
    "labels_train_deep = np.array(labels_train,'float32')\n",
    "labels_train_deep = np_utils.to_categorical(labels_train_deep, num_classes=num_labels)"
   ]
  },
  {
   "cell_type": "code",
   "execution_count": 120,
   "metadata": {
    "id": "ebXGGTFjTQA2"
   },
   "outputs": [],
   "source": [
    "# We are splitting and getting Same distribution as used for Conventional ML model\n",
    "X_train, X_test, y_train, y_test = train_test_split(images_train_3d, labels_train_deep, test_size=0.2, random_state=42)"
   ]
  },
  {
   "cell_type": "markdown",
   "metadata": {
    "id": "Ov0BYatY9wEk"
   },
   "source": [
    "## 3.2 Deep Learning Models (CNN) on Main Dataset"
   ]
  },
  {
   "cell_type": "markdown",
   "metadata": {
    "id": "bii-2Snb2FLf"
   },
   "source": [
    "### 3.2.1 Model 1: Basic Convolutional Neural Network Model"
   ]
  },
  {
   "cell_type": "code",
   "execution_count": 121,
   "metadata": {
    "id": "aRKW8Gu-3UBd"
   },
   "outputs": [],
   "source": [
    "#defining parameters for reducing learning rate if loss is not decreasing and saving models to disk\n",
    "early_stopping = EarlyStopping(\n",
    "    monitor='val_accuracy',\n",
    "    min_delta=0.00005,\n",
    "    patience=11,\n",
    "    verbose=1,\n",
    "    restore_best_weights=True,\n",
    ")\n",
    "\n",
    "mcp_save = ModelCheckpoint(\n",
    "    '.mdl_wts.hdf5',\n",
    "    save_best_only=True,\n",
    "    monitor='val_accuracy',\n",
    "    mode='max')\n",
    "\n",
    "lr_scheduler = ReduceLROnPlateau(\n",
    "    monitor='val_accuracy',\n",
    "    factor=0.5,\n",
    "    patience=7,\n",
    "    min_lr=1e-7,\n",
    "    verbose=1,\n",
    ")\n",
    "\n",
    "callbacks = [\n",
    "    early_stopping,\n",
    "    mcp_save,\n",
    "    lr_scheduler,\n",
    "]"
   ]
  },
  {
   "cell_type": "code",
   "execution_count": 122,
   "metadata": {
    "id": "b8fwHvVFMRRO"
   },
   "outputs": [
    {
     "name": "stdout",
     "output_type": "stream",
     "text": [
      "Epoch 1/50\n",
      "233/233 [==============================] - 17s 69ms/step - loss: 1.7892 - accuracy: 0.2916 - val_loss: 1.7250 - val_accuracy: 0.3210 - lr: 0.0010\n",
      "Epoch 2/50\n",
      "233/233 [==============================] - 19s 80ms/step - loss: 1.6440 - accuracy: 0.3807 - val_loss: 1.5699 - val_accuracy: 0.4314 - lr: 0.0010\n",
      "Epoch 3/50\n",
      "233/233 [==============================] - 18s 78ms/step - loss: 1.5269 - accuracy: 0.4451 - val_loss: 1.4899 - val_accuracy: 0.4609 - lr: 0.0010\n",
      "Epoch 4/50\n",
      "233/233 [==============================] - 19s 84ms/step - loss: 1.4383 - accuracy: 0.4807 - val_loss: 1.4329 - val_accuracy: 0.4620 - lr: 0.0010\n",
      "Epoch 5/50\n",
      "233/233 [==============================] - 18s 76ms/step - loss: 1.3660 - accuracy: 0.5074 - val_loss: 1.3670 - val_accuracy: 0.4952 - lr: 0.0010\n",
      "Epoch 6/50\n",
      "233/233 [==============================] - 18s 78ms/step - loss: 1.3117 - accuracy: 0.5256 - val_loss: 1.3733 - val_accuracy: 0.4930 - lr: 0.0010\n",
      "Epoch 7/50\n",
      "233/233 [==============================] - 18s 77ms/step - loss: 1.2679 - accuracy: 0.5411 - val_loss: 1.3158 - val_accuracy: 0.5139 - lr: 0.0010\n",
      "Epoch 8/50\n",
      "233/233 [==============================] - 18s 77ms/step - loss: 1.2282 - accuracy: 0.5519 - val_loss: 1.2985 - val_accuracy: 0.5225 - lr: 0.0010\n",
      "Epoch 9/50\n",
      "233/233 [==============================] - 18s 75ms/step - loss: 1.1911 - accuracy: 0.5661 - val_loss: 1.2812 - val_accuracy: 0.5397 - lr: 0.0010\n",
      "Epoch 10/50\n",
      "233/233 [==============================] - 17s 72ms/step - loss: 1.1514 - accuracy: 0.5805 - val_loss: 1.2659 - val_accuracy: 0.5386 - lr: 0.0010\n",
      "Epoch 11/50\n",
      "233/233 [==============================] - 17s 73ms/step - loss: 1.1159 - accuracy: 0.5925 - val_loss: 1.2763 - val_accuracy: 0.5402 - lr: 0.0010\n",
      "Epoch 12/50\n",
      "233/233 [==============================] - 18s 76ms/step - loss: 1.0824 - accuracy: 0.6087 - val_loss: 1.2664 - val_accuracy: 0.5456 - lr: 0.0010\n",
      "Epoch 13/50\n",
      "233/233 [==============================] - 18s 76ms/step - loss: 1.0479 - accuracy: 0.6179 - val_loss: 1.2679 - val_accuracy: 0.5557 - lr: 0.0010\n",
      "Epoch 14/50\n",
      "233/233 [==============================] - 18s 76ms/step - loss: 1.0009 - accuracy: 0.6478 - val_loss: 1.2927 - val_accuracy: 0.5498 - lr: 0.0010\n",
      "Epoch 15/50\n",
      "233/233 [==============================] - 21s 90ms/step - loss: 0.9746 - accuracy: 0.6465 - val_loss: 1.2757 - val_accuracy: 0.5622 - lr: 0.0010\n",
      "Epoch 16/50\n",
      "233/233 [==============================] - 19s 83ms/step - loss: 0.9444 - accuracy: 0.6595 - val_loss: 1.3095 - val_accuracy: 0.5488 - lr: 0.0010\n",
      "Epoch 17/50\n",
      "233/233 [==============================] - 20s 84ms/step - loss: 0.9081 - accuracy: 0.6745 - val_loss: 1.2837 - val_accuracy: 0.5466 - lr: 0.0010\n",
      "Epoch 18/50\n",
      "233/233 [==============================] - 20s 86ms/step - loss: 0.8729 - accuracy: 0.6875 - val_loss: 1.3286 - val_accuracy: 0.5525 - lr: 0.0010\n",
      "Epoch 19/50\n",
      "233/233 [==============================] - 18s 79ms/step - loss: 0.8442 - accuracy: 0.6969 - val_loss: 1.3287 - val_accuracy: 0.5547 - lr: 0.0010\n",
      "Epoch 20/50\n",
      "233/233 [==============================] - 18s 78ms/step - loss: 0.8126 - accuracy: 0.7062 - val_loss: 1.3263 - val_accuracy: 0.5648 - lr: 0.0010\n",
      "Epoch 21/50\n",
      "233/233 [==============================] - 19s 83ms/step - loss: 0.7851 - accuracy: 0.7190 - val_loss: 1.3572 - val_accuracy: 0.5461 - lr: 0.0010\n",
      "Epoch 22/50\n",
      "233/233 [==============================] - 20s 87ms/step - loss: 0.7463 - accuracy: 0.7344 - val_loss: 1.3905 - val_accuracy: 0.5563 - lr: 0.0010\n",
      "Epoch 23/50\n",
      "233/233 [==============================] - 19s 82ms/step - loss: 0.7044 - accuracy: 0.7538 - val_loss: 1.4279 - val_accuracy: 0.5627 - lr: 0.0010\n",
      "Epoch 24/50\n",
      "233/233 [==============================] - 19s 80ms/step - loss: 0.6782 - accuracy: 0.7584 - val_loss: 1.4305 - val_accuracy: 0.5547 - lr: 0.0010\n",
      "Epoch 25/50\n",
      "233/233 [==============================] - 18s 75ms/step - loss: 0.6522 - accuracy: 0.7679 - val_loss: 1.4823 - val_accuracy: 0.5531 - lr: 0.0010\n",
      "Epoch 26/50\n",
      "233/233 [==============================] - 18s 78ms/step - loss: 0.6097 - accuracy: 0.7838 - val_loss: 1.5693 - val_accuracy: 0.5445 - lr: 0.0010\n",
      "Epoch 27/50\n",
      "233/233 [============================>.] - ETA: 0s - loss: 0.5783 - accuracy: 0.7973\n",
      "Epoch 27: ReduceLROnPlateau reducing learning rate to 0.0005000000237487257.\n",
      "233/233 [==============================] - 18s 77ms/step - loss: 0.5781 - accuracy: 0.7974 - val_loss: 1.5477 - val_accuracy: 0.5632 - lr: 0.0010\n",
      "Epoch 28/50\n",
      "233/233 [==============================] - 18s 76ms/step - loss: 0.4970 - accuracy: 0.8319 - val_loss: 1.5975 - val_accuracy: 0.5718 - lr: 5.0000e-04\n",
      "Epoch 29/50\n",
      "233/233 [==============================] - 18s 77ms/step - loss: 0.4767 - accuracy: 0.8419 - val_loss: 1.6273 - val_accuracy: 0.5665 - lr: 5.0000e-04\n",
      "Epoch 30/50\n",
      "233/233 [==============================] - 16s 70ms/step - loss: 0.4551 - accuracy: 0.8523 - val_loss: 1.6541 - val_accuracy: 0.5659 - lr: 5.0000e-04\n",
      "Epoch 31/50\n",
      "233/233 [==============================] - 17s 72ms/step - loss: 0.4370 - accuracy: 0.8539 - val_loss: 1.7015 - val_accuracy: 0.5638 - lr: 5.0000e-04\n",
      "Epoch 32/50\n",
      "233/233 [==============================] - 17s 74ms/step - loss: 0.4136 - accuracy: 0.8621 - val_loss: 1.7366 - val_accuracy: 0.5675 - lr: 5.0000e-04\n",
      "Epoch 33/50\n",
      "233/233 [==============================] - 17s 75ms/step - loss: 0.3939 - accuracy: 0.8705 - val_loss: 1.7559 - val_accuracy: 0.5627 - lr: 5.0000e-04\n",
      "Epoch 34/50\n",
      "233/233 [==============================] - 18s 76ms/step - loss: 0.3782 - accuracy: 0.8785 - val_loss: 1.8543 - val_accuracy: 0.5729 - lr: 5.0000e-04\n",
      "Epoch 35/50\n",
      "233/233 [==============================] - 17s 75ms/step - loss: 0.3664 - accuracy: 0.8819 - val_loss: 1.8850 - val_accuracy: 0.5606 - lr: 5.0000e-04\n",
      "Epoch 36/50\n",
      "233/233 [==============================] - 18s 76ms/step - loss: 0.3477 - accuracy: 0.8889 - val_loss: 1.8701 - val_accuracy: 0.5579 - lr: 5.0000e-04\n",
      "Epoch 37/50\n",
      "233/233 [==============================] - 18s 78ms/step - loss: 0.3320 - accuracy: 0.8949 - val_loss: 1.9097 - val_accuracy: 0.5589 - lr: 5.0000e-04\n",
      "Epoch 38/50\n",
      "233/233 [==============================] - 18s 76ms/step - loss: 0.3105 - accuracy: 0.9024 - val_loss: 2.0314 - val_accuracy: 0.5579 - lr: 5.0000e-04\n",
      "Epoch 39/50\n",
      "233/233 [==============================] - 19s 80ms/step - loss: 0.2992 - accuracy: 0.9083 - val_loss: 2.0821 - val_accuracy: 0.5622 - lr: 5.0000e-04\n",
      "Epoch 40/50\n",
      "233/233 [==============================] - 18s 78ms/step - loss: 0.2832 - accuracy: 0.9106 - val_loss: 2.1087 - val_accuracy: 0.5568 - lr: 5.0000e-04\n",
      "Epoch 41/50\n",
      "233/233 [============================>.] - ETA: 0s - loss: 0.2716 - accuracy: 0.9163\n",
      "Epoch 41: ReduceLROnPlateau reducing learning rate to 0.0002500000118743628.\n",
      "233/233 [==============================] - 18s 76ms/step - loss: 0.2714 - accuracy: 0.9164 - val_loss: 2.1067 - val_accuracy: 0.5547 - lr: 5.0000e-04\n",
      "Epoch 42/50\n",
      "233/233 [==============================] - 18s 77ms/step - loss: 0.2326 - accuracy: 0.9369 - val_loss: 2.1615 - val_accuracy: 0.5616 - lr: 2.5000e-04\n",
      "Epoch 43/50\n",
      "233/233 [==============================] - 19s 83ms/step - loss: 0.2205 - accuracy: 0.9404 - val_loss: 2.2106 - val_accuracy: 0.5611 - lr: 2.5000e-04\n",
      "Epoch 44/50\n",
      "233/233 [==============================] - 19s 82ms/step - loss: 0.2130 - accuracy: 0.9426 - val_loss: 2.2287 - val_accuracy: 0.5632 - lr: 2.5000e-04\n",
      "Epoch 45/50\n",
      "233/233 [============================>.] - ETA: 0s - loss: 0.2026 - accuracy: 0.9481Restoring model weights from the end of the best epoch: 34.\n",
      "233/233 [==============================] - 20s 84ms/step - loss: 0.2030 - accuracy: 0.9477 - val_loss: 2.2687 - val_accuracy: 0.5552 - lr: 2.5000e-04\n",
      "Epoch 45: early stopping\n"
     ]
    }
   ],
   "source": [
    "keras.backend.clear_session()\n",
    "tf.random.set_seed(42) #for reproduceability of the results using same models\n",
    "np.random.seed(42)\n",
    "\n",
    "# Initializing model object\n",
    "model1 = Sequential()\n",
    "\n",
    "# 1st Convolutional Layer\n",
    "model1.add(Conv2D(64, (5,5), input_shape = (48, 48, 1)))\n",
    "model1.add(Activation('relu'))\n",
    "model1.add(MaxPooling2D(pool_size=(2, 2)))\n",
    "\n",
    "# 2nd Convolutional Layer\n",
    "model1.add(Conv2D(128, (3,3)))\n",
    "model1.add(Activation(\"relu\"))\n",
    "model1.add(MaxPooling2D(pool_size=(2, 2)))\n",
    "\n",
    "# Flatten Layer\n",
    "model1.add(Flatten())\n",
    "\n",
    "#Dense Layer\n",
    "model1.add(Dense(64))\n",
    "model1.add(Activation('relu'))\n",
    "\n",
    "#Ouput Layer\n",
    "model1.add(Dense(7))\n",
    "model1.add(Activation('softmax'))\n",
    "\n",
    "model1.compile(loss=\"categorical_crossentropy\",\n",
    "              optimizer=\"adam\",\n",
    "              metrics=['accuracy'])\n",
    "\n",
    "history = model1.fit(X_train, y_train, batch_size=32, epochs=50, steps_per_epoch=len(X_train)/32, validation_data=(X_test, y_test), callbacks=callbacks, use_multiprocessing=True)"
   ]
  },
  {
   "cell_type": "code",
   "execution_count": 123,
   "metadata": {
    "colab": {
     "base_uri": "https://localhost:8080/"
    },
    "id": "90vmYV1NMlzS",
    "outputId": "38002e84-2f48-45d4-8a03-e2f4578c3813"
   },
   "outputs": [
    {
     "name": "stdout",
     "output_type": "stream",
     "text": [
      "59/59 [==============================] - 1s 15ms/step - loss: 1.8543 - accuracy: 0.5729\n"
     ]
    },
    {
     "data": {
      "text/plain": [
       "[1.854318618774414, 0.5728831887245178]"
      ]
     },
     "execution_count": 123,
     "metadata": {},
     "output_type": "execute_result"
    }
   ],
   "source": [
    "model1.evaluate(X_test, y_test)"
   ]
  },
  {
   "cell_type": "code",
   "execution_count": 129,
   "metadata": {},
   "outputs": [
    {
     "data": {
      "image/png": "[encoded data removed]",
      "text/plain": [
       "<Figure size 1008x360 with 2 Axes>"
      ]
     },
     "metadata": {
      "needs_background": "light"
     },
     "output_type": "display_data"
    }
   ],
   "source": [
    "# Plotting train and validation loss and accuracies for above model\n",
    "plt.figure(figsize=(14,5))\n",
    "plt.subplot(1,2,1)\n",
    "plt.plot(history.history['loss'])\n",
    "plt.plot(history.history['val_loss'])\n",
    "plt.title('Fig 3. Model Loss')\n",
    "plt.xlabel('Epochs')\n",
    "plt.ylabel('Loss')\n",
    "plt.legend(['train', 'test'], loc='upper left')\n",
    "\n",
    "plt.subplot(1,2,2)\n",
    "plt.plot(history.history['accuracy'])\n",
    "plt.plot(history.history['val_accuracy'])\n",
    "plt.title('Fig 4. Model Accuracy')\n",
    "plt.xlabel('Epochs')\n",
    "plt.ylabel('Accuracy')\n",
    "plt.legend(['train', 'test'], loc='upper left')\n",
    "plt.show()\n"
   ]
  },
  {
   "cell_type": "markdown",
   "metadata": {},
   "source": [
    "`In above figures we can clearly see that our Basic Convolutional Neural Network is overfitting as it is giving 99% accuracy on the training set while the accuracy of validation set doesnot improve after 59%. I have also tried used dropout() and regularization but it was making the accuracy stangnant. Let's use Random Search to try multiple conv_layers, dense_layers and filter sizes. After that we will be training on a complex architecture` "
   ]
  },
  {
   "cell_type": "markdown",
   "metadata": {
    "id": "-H8gtRmlLwfy"
   },
   "source": [
    "### 3.2.2 Random Search (Training CNN on Different Combination of Layers and Parameters)"
   ]
  },
  {
   "cell_type": "code",
   "execution_count": null,
   "metadata": {
    "id": "fyx4P3DMLp4o"
   },
   "outputs": [],
   "source": [
    "# Commenting this as it is taking too much time to run again for final output\n",
    "# dense_layers = [0,1,2]\n",
    "# layer_sizes = [32,64,128]\n",
    "# conv_layers = [1,2,3]\n",
    "\n",
    "# import time\n",
    "\n",
    "\n",
    "# for dense_layer in dense_layers:\n",
    "#   for layer_size in layer_sizes:\n",
    "#     for conv_layer in conv_layers:\n",
    "#       print(\"{}-conv-{}-nodes-{}-dense-{}\".format(conv_layer, layer_size, dense_layer, int(time.time())))\n",
    "#       model = Sequential()\n",
    "\n",
    "#       # 1 - Convolution\n",
    "#       model.add(Conv2D(layer_size, (3,3), input_shape = (48, 48, 1)))\n",
    "#       model.add(Activation('relu'))\n",
    "#       model.add(MaxPooling2D(pool_size=(2, 2)))\n",
    "\n",
    "#       for l in range(conv_layer-1):\n",
    "#         model.add(Conv2D(layer_size, (3,3)))\n",
    "#         model.add(Activation(\"relu\"))\n",
    "#         model.add(MaxPooling2D(pool_size=(2, 2)))\n",
    "\n",
    "#       model.add(Flatten()) #  this converts our 3D feature maps to 1D feature vectors\n",
    "#       for l in range(dense_layer):\n",
    "#         model.add(Dense(layer_size))\n",
    "#         model.add(Activation(\"relu\"))\n",
    "\n",
    "#       model.add(Dense(7))\n",
    "#       model.add(Activation('softmax'))\n",
    "\n",
    "#       model.compile(loss=\"categorical_crossentropy\",\n",
    "#                     optimizer=\"adam\",\n",
    "#                     metrics=['accuracy'])\n",
    "\n",
    "#       model.fit(X_train, y_train, batch_size=32, epochs=20, validation_data=(X_test, y_test))"
   ]
  },
  {
   "cell_type": "markdown",
   "metadata": {
    "id": "upIIzKsMWOP2"
   },
   "source": [
    "### 3.2.3 Model 2: Selecting more complicated Conv2D Architecture (6 Layer)\n",
    "\n",
    "Our Accuracy didn't improve. Hence we are using this [architecture](https://www.kaggle.com/code/gauravsharma99/facial-emotion-recognition/notebook) to see if our model is imroving in terms of accuracy."
   ]
  },
  {
   "cell_type": "code",
   "execution_count": 83,
   "metadata": {
    "colab": {
     "base_uri": "https://localhost:8080/",
     "height": 550
    },
    "id": "xrdpczvjsYjo",
    "outputId": "f1c3b091-cd04-46fe-bea3-1c2c205ea0f2"
   },
   "outputs": [
    {
     "name": "stdout",
     "output_type": "stream",
     "text": [
      "Epoch 1/10\n",
      "233/233 [==============================] - 187s 796ms/step - loss: 2.2460 - accuracy: 0.3066 - val_loss: 3.1318 - val_accuracy: 0.2020 - lr: 0.0010\n",
      "Epoch 2/10\n",
      "233/233 [==============================] - 211s 906ms/step - loss: 1.5841 - accuracy: 0.4412 - val_loss: 2.4479 - val_accuracy: 0.2513 - lr: 0.0010\n",
      "Epoch 3/10\n",
      "233/233 [==============================] - 192s 820ms/step - loss: 1.3808 - accuracy: 0.4973 - val_loss: 1.3512 - val_accuracy: 0.5166 - lr: 0.0010\n",
      "Epoch 4/10\n",
      "233/233 [==============================] - 190s 816ms/step - loss: 1.2797 - accuracy: 0.5421 - val_loss: 1.3700 - val_accuracy: 0.5064 - lr: 0.0010\n",
      "Epoch 5/10\n",
      "233/233 [==============================] - 194s 832ms/step - loss: 1.2217 - accuracy: 0.5528 - val_loss: 1.3190 - val_accuracy: 0.5188 - lr: 0.0010\n",
      "Epoch 6/10\n",
      "233/233 [==============================] - 199s 852ms/step - loss: 1.1607 - accuracy: 0.5717 - val_loss: 1.6369 - val_accuracy: 0.4469 - lr: 0.0010\n",
      "Epoch 7/10\n",
      "233/233 [==============================] - 200s 860ms/step - loss: 1.1244 - accuracy: 0.5843 - val_loss: 1.6742 - val_accuracy: 0.4394 - lr: 0.0010\n",
      "Epoch 8/10\n",
      "233/233 [==============================] - 188s 802ms/step - loss: 1.0864 - accuracy: 0.6057 - val_loss: 1.6934 - val_accuracy: 0.3489 - lr: 0.0010\n",
      "Epoch 9/10\n",
      "233/233 [==============================] - 200s 857ms/step - loss: 1.0496 - accuracy: 0.6155 - val_loss: 1.0948 - val_accuracy: 0.6056 - lr: 0.0010\n",
      "Epoch 10/10\n",
      "233/233 [==============================] - 199s 854ms/step - loss: 0.9982 - accuracy: 0.6391 - val_loss: 1.3851 - val_accuracy: 0.4909 - lr: 0.0010\n"
     ]
    },
    {
     "data": {
      "text/plain": [
       "<keras.callbacks.History at 0x7faa61a95250>"
      ]
     },
     "execution_count": 83,
     "metadata": {},
     "output_type": "execute_result"
    }
   ],
   "source": [
    "model2 = Sequential()\n",
    "\n",
    "# 1st Convolutional Layer\n",
    "model2.add(Conv2D(filters=64, kernel_size=(5,5), input_shape=(48, 48, 1), activation='elu', padding='same'))\n",
    "model2.add(BatchNormalization())\n",
    "\n",
    "# 2nd Convolutional Layer\n",
    "model2.add(Conv2D(filters=64, kernel_size=(5,5), activation='elu', padding='same', kernel_initializer='he_normal'))\n",
    "model2.add(BatchNormalization())\n",
    "model2.add(MaxPooling2D(pool_size=(2, 2)))\n",
    "model2.add(Dropout(0.4))\n",
    "\n",
    "# 3rd Convolutional Layer\n",
    "model2.add(Conv2D(filters=128, kernel_size=(3,3), activation='elu', padding='same', kernel_initializer='he_normal'))\n",
    "model2.add(BatchNormalization())\n",
    "\n",
    "# 4th Convolutional Layer\n",
    "model2.add(Conv2D(filters=128, kernel_size=(3,3), activation='elu', padding='same', kernel_initializer='he_normal'))\n",
    "model2.add(BatchNormalization())    \n",
    "model2.add(MaxPooling2D(pool_size=(2, 2)))\n",
    "model2.add(Dropout(0.4))\n",
    "\n",
    "# 5th Convolutional Layer\n",
    "model2.add(Conv2D(filters=256, kernel_size=(3,3), activation='elu', padding='same',kernel_initializer='he_normal'))\n",
    "model2.add(BatchNormalization())\n",
    "\n",
    "# 6th Convolutional Layer\n",
    "model2.add(Conv2D(filters=256, kernel_size=(3,3), activation='elu', padding='same', kernel_initializer='he_normal'))\n",
    "model2.add(BatchNormalization())\n",
    "model2.add(MaxPooling2D(pool_size=(2, 2)))\n",
    "model2.add(Dropout(0.5))          \n",
    "          \n",
    "# Flatten Layer\n",
    "model2.add(Flatten())\n",
    "\n",
    "# Fully Connected Dense Layer      \n",
    "model2.add(Dense(128, activation='elu', kernel_initializer='he_normal'))\n",
    "model2.add(BatchNormalization())\n",
    "model2.add(Dropout(0.6))\n",
    "          \n",
    "#Ouput Layer          \n",
    "model2.add(Dense(7, activation='softmax')) #changing it to\n",
    "          \n",
    "#Compilation of model          \n",
    "model2.compile(loss=\"categorical_crossentropy\",\n",
    "              optimizer=tf.keras.optimizers.Adam(learning_rate=0.001),\n",
    "              metrics=['accuracy'])\n",
    "\n",
    "# please change epochs=100 or 1000\n",
    "model2.fit(X_train, y_train, batch_size=32, epochs=10, steps_per_epoch=len(X_train)/32, validation_data=(X_test, y_test), callbacks=callbacks, use_multiprocessing=True)"
   ]
  },
  {
   "cell_type": "code",
   "execution_count": 84,
   "metadata": {
    "id": "vxuzo1Sx6Luh"
   },
   "outputs": [
    {
     "name": "stdout",
     "output_type": "stream",
     "text": [
      "Model: \"sequential_2\"\n",
      "_________________________________________________________________\n",
      " Layer (type)                Output Shape              Param #   \n",
      "=================================================================\n",
      " conv2d_8 (Conv2D)           (None, 48, 48, 64)        1664      \n",
      "                                                                 \n",
      " batch_normalization_7 (Batc  (None, 48, 48, 64)       256       \n",
      " hNormalization)                                                 \n",
      "                                                                 \n",
      " conv2d_9 (Conv2D)           (None, 48, 48, 64)        102464    \n",
      "                                                                 \n",
      " batch_normalization_8 (Batc  (None, 48, 48, 64)       256       \n",
      " hNormalization)                                                 \n",
      "                                                                 \n",
      " max_pooling2d_5 (MaxPooling  (None, 24, 24, 64)       0         \n",
      " 2D)                                                             \n",
      "                                                                 \n",
      " dropout_4 (Dropout)         (None, 24, 24, 64)        0         \n",
      "                                                                 \n",
      " conv2d_10 (Conv2D)          (None, 24, 24, 128)       73856     \n",
      "                                                                 \n",
      " batch_normalization_9 (Batc  (None, 24, 24, 128)      512       \n",
      " hNormalization)                                                 \n",
      "                                                                 \n",
      " conv2d_11 (Conv2D)          (None, 24, 24, 128)       147584    \n",
      "                                                                 \n",
      " batch_normalization_10 (Bat  (None, 24, 24, 128)      512       \n",
      " chNormalization)                                                \n",
      "                                                                 \n",
      " max_pooling2d_6 (MaxPooling  (None, 12, 12, 128)      0         \n",
      " 2D)                                                             \n",
      "                                                                 \n",
      " dropout_5 (Dropout)         (None, 12, 12, 128)       0         \n",
      "                                                                 \n",
      " conv2d_12 (Conv2D)          (None, 12, 12, 256)       295168    \n",
      "                                                                 \n",
      " batch_normalization_11 (Bat  (None, 12, 12, 256)      1024      \n",
      " chNormalization)                                                \n",
      "                                                                 \n",
      " conv2d_13 (Conv2D)          (None, 12, 12, 256)       590080    \n",
      "                                                                 \n",
      " batch_normalization_12 (Bat  (None, 12, 12, 256)      1024      \n",
      " chNormalization)                                                \n",
      "                                                                 \n",
      " max_pooling2d_7 (MaxPooling  (None, 6, 6, 256)        0         \n",
      " 2D)                                                             \n",
      "                                                                 \n",
      " dropout_6 (Dropout)         (None, 6, 6, 256)         0         \n",
      "                                                                 \n",
      " flatten_2 (Flatten)         (None, 9216)              0         \n",
      "                                                                 \n",
      " dense_4 (Dense)             (None, 128)               1179776   \n",
      "                                                                 \n",
      " batch_normalization_13 (Bat  (None, 128)              512       \n",
      " chNormalization)                                                \n",
      "                                                                 \n",
      " dropout_7 (Dropout)         (None, 128)               0         \n",
      "                                                                 \n",
      " dense_5 (Dense)             (None, 7)                 903       \n",
      "                                                                 \n",
      "=================================================================\n",
      "Total params: 2,395,591\n",
      "Trainable params: 2,393,543\n",
      "Non-trainable params: 2,048\n",
      "_________________________________________________________________\n"
     ]
    }
   ],
   "source": [
    "model2.summary()"
   ]
  },
  {
   "cell_type": "code",
   "execution_count": 85,
   "metadata": {
    "id": "YftlFltZ7Z5l"
   },
   "outputs": [],
   "source": [
    "model2.save(join(dataset_directory , \"deep-CNN-Conv2d-6Layers.h5\"))\n",
    "#model2.load_weights(join(dataset_directory , \"deep-CNN-Conv2d-6Layers.h5\")) #use this to reload the model"
   ]
  },
  {
   "cell_type": "markdown",
   "metadata": {
    "id": "GfQggBUT-ek0"
   },
   "source": [
    "### 3.2.4 Predictions using Selected Model(Model 2: 6 Layer)"
   ]
  },
  {
   "cell_type": "markdown",
   "metadata": {
    "id": "iIFTJ8Rw6dXZ"
   },
   "source": [
    "#### 3.2.4.1 Prediction on Facial Expression Recognition: PUBLIC Test"
   ]
  },
  {
   "cell_type": "code",
   "execution_count": 86,
   "metadata": {
    "id": "o103vY5F6cu6"
   },
   "outputs": [
    {
     "name": "stdout",
     "output_type": "stream",
     "text": [
      "36/36 [==============================] - 7s 200ms/step\n"
     ]
    }
   ],
   "source": [
    "# Running the conv 6 Layer model2 on Public Test Set\n",
    "Public_test_predicted_deep = model2.predict(images_test_public_3d)\n",
    "Public_test_predicted_deep = list(np.argmax(Public_test_predicted_deep,axis=1))"
   ]
  },
  {
   "cell_type": "code",
   "execution_count": 87,
   "metadata": {
    "id": "D2-a1JKZ6kOh"
   },
   "outputs": [],
   "source": [
    "# Generate PUBLIC test CSV\n",
    "f = open(join(dataset_directory, '46335706_deep_predictions_conv2d_6Layer.csv'), 'w') \n",
    "f.write('ID,Predictions\\n')\n",
    "for i in range(len(Public_test_predicted_deep)):\n",
    "  f.write(str(i) + f',{Public_test_predicted_deep[i]}\\n')\n",
    "f.close()"
   ]
  },
  {
   "cell_type": "markdown",
   "metadata": {
    "id": "X5LZWZae6-yi"
   },
   "source": [
    "#### 3.2.4.2 Prediction on Facial Expression Recognition: PRIAVET Test"
   ]
  },
  {
   "cell_type": "code",
   "execution_count": 89,
   "metadata": {
    "id": "BOQVy_ws7AU2"
   },
   "outputs": [
    {
     "name": "stdout",
     "output_type": "stream",
     "text": [
      "37/37 [==============================] - 6s 167ms/step\n"
     ]
    }
   ],
   "source": [
    "# Running the model on Public Test Set\n",
    "Private_test_predicted_deep = model2.predict(images_test_private_3d)\n",
    "Private_test_predicted_deep = list(np.argmax(Private_test_predicted_deep,axis=1))"
   ]
  },
  {
   "cell_type": "code",
   "execution_count": 90,
   "metadata": {
    "id": "riun4s1Y7E-h"
   },
   "outputs": [],
   "source": [
    "# Generate PUBLIC test CSV\n",
    "f = open(join(dataset_directory, '46335706_deep_predictions_conv2d_6Layer_PRIVATE.csv'), 'w')  ## FOR EXAMPLE\n",
    "f.write('ID,Predictions\\n')\n",
    "for i in range(len(Private_test_predicted_deep)):\n",
    "  f.write(str(i) + f',{Private_test_predicted_deep[i]}\\n')  ## REPLACE THE ZERO WITH YOUR PREDICTION FOR THAT IMAGE\n",
    "f.close()"
   ]
  },
  {
   "cell_type": "code",
   "execution_count": 91,
   "metadata": {
    "id": "lxHmaJoBsaoO"
   },
   "outputs": [
    {
     "name": "stdout",
     "output_type": "stream",
     "text": [
      "59/59 [==============================] - 11s 194ms/step - loss: 1.3851 - accuracy: 0.4909\n"
     ]
    },
    {
     "data": {
      "text/plain": [
       "[1.3851011991500854, 0.49088960886001587]"
      ]
     },
     "execution_count": 91,
     "metadata": {},
     "output_type": "execute_result"
    }
   ],
   "source": [
    "model2.evaluate(X_test, y_test)"
   ]
  },
  {
   "cell_type": "markdown",
   "metadata": {
    "id": "OfRxV68f_c7e"
   },
   "source": [
    "## 3.3 Deep Learning Models (CNN): Out-of-Domain Dataset"
   ]
  },
  {
   "cell_type": "markdown",
   "metadata": {
    "id": "AvG_UBJWExBe"
   },
   "source": [
    "### 3.3.1 OOD Data Preprocessing"
   ]
  },
  {
   "cell_type": "code",
   "execution_count": 109,
   "metadata": {
    "id": "1F4nss31xXEK"
   },
   "outputs": [],
   "source": [
    "# Training Data\n",
    "images_train_combined_3d = np.array(images_train_combined,'float32')\n",
    "images_train_combined_3d -= np.mean(images_train_combined_3d, axis=0)\n",
    "images_train_combined_3d /= np.std(images_train_combined_3d, axis=0)\n",
    "images_train_combined_3d = images_train_combined_3d.reshape(-1, 48, 48, 1)\n",
    "images_train_combined_3d = images_train_combined_3d.astype(\"float\") / 255.0\n",
    "\n",
    "#Public Test Data\n",
    "PublicTest_faces_plus_data_images_3d = np.array(PublicTest_faces_plus_data_images,'float32')\n",
    "PublicTest_faces_plus_data_images_3d -= np.mean(PublicTest_faces_plus_data_images_3d, axis=0)\n",
    "PublicTest_faces_plus_data_images_3d /= np.std(PublicTest_faces_plus_data_images_3d, axis=0)\n",
    "PublicTest_faces_plus_data_images_3d = PublicTest_faces_plus_data_images_3d.reshape(-1, 48, 48, 1)\n",
    "PublicTest_faces_plus_data_images_3d = PublicTest_faces_plus_data_images_3d.astype(\"float\") / 255.0\n",
    "\n",
    "#Private Test Data\n",
    "PrivateTest_faces_plus_data_images_3d = np.array(PrivateTest_faces_plus_data_images,'float32')\n",
    "PrivateTest_faces_plus_data_images_3d -= np.mean(PrivateTest_faces_plus_data_images_3d, axis=0)\n",
    "PrivateTest_faces_plus_data_images_3d /= np.std(PrivateTest_faces_plus_data_images_3d, axis=0)\n",
    "PrivateTest_faces_plus_data_images_3d = PrivateTest_faces_plus_data_images_3d.reshape(-1, 48, 48, 1)\n",
    "PrivateTest_faces_plus_data_images_3d = PrivateTest_faces_plus_data_images_3d.astype(\"float\") / 255.0\n",
    "\n",
    "\n",
    "# Training Labels\n",
    "num_labels = len(np.unique(labels_train_combined))\n",
    "labels_train_combined_deep = np.array(labels_train_combined,'float32')\n",
    "labels_train_combined_deep = np_utils.to_categorical(labels_train_combined_deep, num_classes=num_labels)"
   ]
  },
  {
   "cell_type": "markdown",
   "metadata": {
    "id": "-vWHNAm-FPh9"
   },
   "source": [
    "### 3.3.2 Splitting Combined Dataset"
   ]
  },
  {
   "cell_type": "code",
   "execution_count": 110,
   "metadata": {
    "id": "fX5kr7a4y1ac"
   },
   "outputs": [],
   "source": [
    "X_train, X_test, y_train, y_test = train_test_split(images_train_combined_3d, MNIST_images_labels, test_size=0.2, random_state=42)"
   ]
  },
  {
   "cell_type": "markdown",
   "metadata": {
    "id": "jHHBDlLCFaPA"
   },
   "source": [
    "### 3.3.3 Fitting Selected Model(6 Layer) on Combined Dataset"
   ]
  },
  {
   "cell_type": "code",
   "execution_count": 111,
   "metadata": {
    "id": "mF_aaUxvDvju"
   },
   "outputs": [
    {
     "name": "stdout",
     "output_type": "stream",
     "text": [
      "Epoch 1/2\n",
      "270/270 [==============================] - 235s 865ms/step - loss: 1.6805 - accuracy: 0.4338 - val_loss: 3.5207 - val_accuracy: 0.1865 - lr: 0.0010\n",
      "Epoch 2/2\n",
      "270/270 [==============================] - 205s 758ms/step - loss: 1.2977 - accuracy: 0.5316 - val_loss: 1.7597 - val_accuracy: 0.3689 - lr: 0.0010\n"
     ]
    },
    {
     "data": {
      "text/plain": [
       "<keras.callbacks.History at 0x7fa98cb99eb0>"
      ]
     },
     "execution_count": 111,
     "metadata": {},
     "output_type": "execute_result"
    }
   ],
   "source": [
    "model_MNIST = Sequential()\n",
    "\n",
    "# 1st Convolutional Layer\n",
    "model_MNIST.add(Conv2D(filters=64, kernel_size=(5,5), input_shape=(48, 48, 1), activation='elu', padding='same'))\n",
    "model_MNIST.add(BatchNormalization())\n",
    "\n",
    "# 2nd Convolutional Layer\n",
    "model_MNIST.add(Conv2D(filters=64, kernel_size=(5,5), activation='elu', padding='same', kernel_initializer='he_normal'))\n",
    "model_MNIST.add(BatchNormalization())\n",
    "model_MNIST.add(MaxPooling2D(pool_size=(2, 2)))\n",
    "model_MNIST.add(Dropout(0.4))\n",
    "\n",
    "# 3rd Convolutional Layer\n",
    "model_MNIST.add(Conv2D(filters=128, kernel_size=(3,3), activation='elu', padding='same', kernel_initializer='he_normal'))\n",
    "model_MNIST.add(BatchNormalization())\n",
    "\n",
    "# 4th Convolutional Layer\n",
    "model_MNIST.add(Conv2D(filters=128, kernel_size=(3,3), activation='elu', padding='same', kernel_initializer='he_normal'))\n",
    "model_MNIST.add(BatchNormalization())    \n",
    "model_MNIST.add(MaxPooling2D(pool_size=(2, 2)))\n",
    "model_MNIST.add(Dropout(0.4))\n",
    "\n",
    "# 5th Convolutional Layer\n",
    "model_MNIST.add(Conv2D(filters=256, kernel_size=(3,3), activation='elu', padding='same',kernel_initializer='he_normal'))\n",
    "model_MNIST.add(BatchNormalization())\n",
    "\n",
    "# 6th Convolutional Layer\n",
    "model_MNIST.add(Conv2D(filters=256, kernel_size=(3,3), activation='elu', padding='same', kernel_initializer='he_normal'))\n",
    "model_MNIST.add(BatchNormalization())\n",
    "model_MNIST.add(MaxPooling2D(pool_size=(2, 2)))\n",
    "model_MNIST.add(Dropout(0.5))          \n",
    "          \n",
    "# Flatten Layer\n",
    "model_MNIST.add(Flatten())\n",
    "\n",
    "# Fully Connected Dense Layer      \n",
    "model_MNIST.add(Dense(128, activation='elu', kernel_initializer='he_normal'))\n",
    "model_MNIST.add(BatchNormalization())\n",
    "model_MNIST.add(Dropout(0.6))\n",
    "          \n",
    "#Ouput Layer          \n",
    "model_MNIST.add(Dense(8, activation='softmax')) #changing it to 8\n",
    "          \n",
    "#Compilation of model          \n",
    "model_MNIST.compile(loss=\"categorical_crossentropy\",\n",
    "              optimizer=tf.keras.optimizers.Adam(learning_rate=0.001),\n",
    "              metrics=['accuracy'])\n",
    "\n",
    "# please change epochs=100 or 1000\n",
    "model_MNIST.fit(X_train, y_train, batch_size=32, epochs=2, steps_per_epoch=len(X_train)/32, validation_data=(X_test, y_test), callbacks=callbacks, use_multiprocessing=True)"
   ]
  },
  {
   "cell_type": "code",
   "execution_count": 112,
   "metadata": {
    "id": "i2a53cNxEHsn"
   },
   "outputs": [],
   "source": [
    "model_MNIST.save(join(dataset_directory , \"deep-CNN-Conv2d-6Layers-MNIST.h5\"))"
   ]
  },
  {
   "cell_type": "code",
   "execution_count": 113,
   "metadata": {
    "colab": {
     "base_uri": "https://localhost:8080/"
    },
    "id": "fAMjxVB0iuck",
    "outputId": "9d76e6e0-bc60-4ea6-8bb1-dd0c6510c724"
   },
   "outputs": [
    {
     "name": "stdout",
     "output_type": "stream",
     "text": [
      "68/68 [==============================] - 14s 203ms/step - loss: 1.7597 - accuracy: 0.3689\n"
     ]
    },
    {
     "data": {
      "text/plain": [
       "[1.759748935699463, 0.3688827455043793]"
      ]
     },
     "execution_count": 113,
     "metadata": {},
     "output_type": "execute_result"
    }
   ],
   "source": [
    "model_MNIST.evaluate(X_test, y_test)"
   ]
  },
  {
   "cell_type": "markdown",
   "metadata": {
    "id": "FOM-qsqrFsqw"
   },
   "source": [
    "### 3.3.4 Predictions on OOD using 6 Layer Model"
   ]
  },
  {
   "cell_type": "markdown",
   "metadata": {
    "id": "XXdRAR4iF_zp"
   },
   "source": [
    "#### 3.4.4.1 Prediction of Facial Expression Recognition (OOD): PUBLIC Test"
   ]
  },
  {
   "cell_type": "code",
   "execution_count": 114,
   "metadata": {
    "id": "dRBzrtz1GAEN"
   },
   "outputs": [
    {
     "name": "stdout",
     "output_type": "stream",
     "text": [
      "52/52 [==============================] - 10s 194ms/step\n"
     ]
    }
   ],
   "source": [
    "# Running the model on Public Test Set\n",
    "Public_faces_test_predicted_deep = model_MNIST.predict(PublicTest_faces_plus_data_images_3d)\n",
    "Public_faces_test_predicted_deep =  list(np.argmax(Public_faces_test_predicted_deep,axis=1))"
   ]
  },
  {
   "cell_type": "code",
   "execution_count": 115,
   "metadata": {
    "id": "NSAojwg0GYvB"
   },
   "outputs": [],
   "source": [
    "# Generate PUBLIC test CSV\n",
    "\n",
    "f = open(join(ouput_directory, '46335706_deep_predictions_conv2d_6Layer_MNIST_PUBLIC.csv'), 'w')\n",
    "f.write('ID,Predictions\\n')\n",
    "for i in range(len(Public_faces_test_predicted_deep)):\n",
    "  f.write(str(i) + f',{Public_faces_test_predicted_deep[i]}\\n')\n",
    "f.close()"
   ]
  },
  {
   "cell_type": "markdown",
   "metadata": {
    "id": "qO8I0unFkkuP"
   },
   "source": [
    "#### 3.4.4.2 Prediction of Facial Expression Recognition (OOD): PRIVATE Test"
   ]
  },
  {
   "cell_type": "code",
   "execution_count": 8,
   "metadata": {
    "id": "RM7LPF-8hcY_"
   },
   "outputs": [],
   "source": [
    "# Running the model on Public Test Set\n",
    "Private_faces_test_predicted_deep = model_MNIST.predict(PrivateTest_faces_plus_data_images_3d)\n",
    "Private_faces_test_predicted_deep =  list(np.argmax(Private_faces_test_predicted_deep,axis=1))"
   ]
  },
  {
   "cell_type": "code",
   "execution_count": 16,
   "metadata": {
    "id": "es5i_DlyhpG6"
   },
   "outputs": [],
   "source": [
    "# Generate PRIVATE test CSV\n",
    "f = open(join(output_directory, '46335706_deep_predictions_conv2d_6Layer_MNIST_PRIVATE.csv'), 'w')\n",
    "f.write('ID,Predictions\\n')\n",
    "for i in range(len(private_faces_test_Predicted_deep)):\n",
    "  f.write(str(i) + f',{private_faces_test_Predicted_deep[i]}\\n')\n",
    "f.close()"
   ]
  },
  {
   "cell_type": "markdown",
   "metadata": {
    "id": "yMjrseI48QQA"
   },
   "source": [
    "## 3.4 Notes on Deep Learning Models (CNN) on Main Dataset and ODD\n",
    "\n",
    "We have trained one basic and one complex convolutional neural networks. We have used early stopping and ReduceLROnPlateau. These methods can help us for reducing the learning rate if model performance is not improving and for avoiding overfitting. We have used model checkpoint to save weights of neurons on a specific epoch. Futhermore, tensorboard can be used to see model performance for diffent metrics which can asssist for fine-tuning the models.\n",
    "\n",
    "***\n",
    "**Model 1:** 2 Convolution layers, 1 Flatten Layer, 1 Dense Layer and 1 output layer. We have used \"relu\" as activation function. I have tried dropout and L1 L2 regularization but it was not working so it was removed. Model was badly overfitting and the possible reason could be that the model has a high variance or the size of the training dataset used is not enough or the model doesn't have a reliable architecture for this problem. \n",
    "\n",
    "***\n",
    "**Model 2(6 Layers):** 6 Convolution layers, 1 Flatten Layer, 1 Dense Layer and 1 output layer. To cater dying relu problem, this time we have tried \"elu\" as an activation function. We have also used loss function as Adam(learning_rate=0.001) this time. Accuracy for model 2 with 6 layers went up to 70 on 45 epochs. Running more Epochs with different parameters can further improve the results. Our second DL model had:\n",
    "\n",
    "Total params: 2,395,591</br>\n",
    "Trainable params: 2,393,543</br>\n",
    "Non-trainable params: 2,048</br>\n",
    "\n",
    "We have used filters of 62 in first two, 128 in 3rd & 4th and 256 in last two convolutional layers along with Dropouts of 40% neurons. We have also used BatchNormalization and MaxPooling 2D. We can also test Average Pooling and other activation functions to observe their results. \n",
    "\n",
    "And at 45th Epoch it had a validation accuracy of 70%\n",
    "\n",
    "Epoch 45/70\n",
    "270/270 [==============================] - 191s 704ms/step - loss: 0.0670 - accuracy: 0.9793 - val_loss: 1.4907 - val_accuracy: 0.7018 - lr: 2.5000e-04\n",
    "***\n",
    "**Selected Model:**\n",
    "`We have selected Model 2(6 Layers) as it's accuracy has significantly imrpoved to 70% from 59% and it has further potential to improve by tunning parameters.`"
   ]
  },
  {
   "cell_type": "markdown",
   "metadata": {},
   "source": [
    "# 4 Discussion of Model Performance and Implementation\n",
    "\n",
    "This Kernal implemented conventional(LGBM) and deep learning models usind Keras + Tensorflow CNN for the Facial Expression Recognition competition. It has yielded results of 64.26% on the leaderboard. With some more tuning, data augmentation, including more samples to the dataset and Transfer Learning(using pretrained models) a better result could be yielded.\n",
    "\n",
    "\n",
    "**Facial Expression Recognition(PUBLIC):**\n",
    "\n",
    "Conventional - LGBM : 0.57\n",
    "\n",
    "Deep Learning - CNN Model 2(6 Layer) : 0.64\n",
    "\n",
    "**Facial Expression Recognition(PRIVATE):**\n",
    "\n",
    "Conventional - LGBM : 0.60\n",
    "\n",
    "Deep Learning - CNN Model 2(6 Layer) : 0.67\n",
    "\n",
    "**Accuracy improved by 7 percent for Deep Learning Model comparing to conventional learning model. Moreover, accuracies improved by 2-3% on the private sets comparing to public sets. Above tread off shows that both the techniques produced are producing generalised models.**\n",
    "\n",
    "***\n",
    "\n",
    "**Facial Expression Recognition OOD (PUBLIC):**\n",
    "\n",
    "Conventional - LGBM : 0.70\n",
    "\n",
    "Deep Learning - CNN Model 2(6 Layer) : 0.74\n",
    "\n",
    "**Facial Expression Recognition OOD (PRIVATE):**\n",
    "\n",
    "Conventional - LGBM : 0.55\n",
    "\n",
    "Deep Learning - CNN Model 2(6 Layer) : 0.19\n",
    "\n",
    "**Accuracies on the OOD dataset was improved by 13% for the conventional model and 7% for the DL Model.**\n",
    "***\n",
    "**Conclusion:**\n",
    "\n",
    "`We have used smaller subset of FER dataset having class imbalance and tested mutiple conventional and deep learning models out of which Light Gradient Boosting Machine performed the best in convential and Conv2d with 6 Layers even outperformed the convential model by improving the accuracy by 7%. We have also fitted models on out of domain datasets and our model was able to generalize other patterns(digits) as well along with faces. We can further improve accuracies by simply reducing the class imbalance and by also including more data. We can also use ResNets and Inception V3 to explore their results. Lastly, Transfer learning using pretrained models can drastically train a high-performing model. Future work can be done by integrating the trained models with webcam and use for security or other purposes.`"
   ]
  }
 ],
 "metadata": {
  "accelerator": "GPU",
  "colab": {
   "collapsed_sections": [
    "Tp6zrLa-WJ_E",
    "Lf45VKJXW_4m"
   ],
   "name": "image_code_stub.ipynb",
   "provenance": [],
   "toc_visible": true
  },
  "kernelspec": {
   "display_name": "Python 3",
   "language": "python",
   "name": "python3"
  },
  "language_info": {
   "codemirror_mode": {
    "name": "ipython",
    "version": 3
   },
   "file_extension": ".py",
   "mimetype": "text/x-python",
   "name": "python",
   "nbconvert_exporter": "python",
   "pygments_lexer": "ipython3",
   "version": "3.8.5"
  }
 },
 "nbformat": 4,
 "nbformat_minor": 4
}
